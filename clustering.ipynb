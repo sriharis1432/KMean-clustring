{
  "nbformat": 4,
  "nbformat_minor": 0,
  "metadata": {
    "colab": {
      "provenance": []
    },
    "kernelspec": {
      "name": "python3",
      "display_name": "Python 3"
    },
    "language_info": {
      "name": "python"
    }
  },
  "cells": [
    {
      "cell_type": "code",
      "execution_count": null,
      "metadata": {
        "id": "-5FCK6_w-yz_"
      },
      "outputs": [],
      "source": [
        "# import the pandas\n",
        "import pandas as pd\n",
        "data = pd.read_csv('studentclusters.csv')"
      ]
    },
    {
      "cell_type": "code",
      "source": [
        "data.head()"
      ],
      "metadata": {
        "colab": {
          "base_uri": "https://localhost:8080/",
          "height": 206
        },
        "id": "WiA3UGxMlN5g",
        "outputId": "b477e018-718b-4496-c262-6358d90fae84"
      },
      "execution_count": null,
      "outputs": [
        {
          "output_type": "execute_result",
          "data": {
            "text/plain": [
              "   marks  shours\n",
              "0     72    20.0\n",
              "1     42    19.0\n",
              "2     77     7.0\n",
              "3     93    22.0\n",
              "4     30    20.0"
            ],
            "text/html": [
              "\n",
              "  <div id=\"df-999ef9ed-4f46-426e-a242-5f783e191a12\">\n",
              "    <div class=\"colab-df-container\">\n",
              "      <div>\n",
              "<style scoped>\n",
              "    .dataframe tbody tr th:only-of-type {\n",
              "        vertical-align: middle;\n",
              "    }\n",
              "\n",
              "    .dataframe tbody tr th {\n",
              "        vertical-align: top;\n",
              "    }\n",
              "\n",
              "    .dataframe thead th {\n",
              "        text-align: right;\n",
              "    }\n",
              "</style>\n",
              "<table border=\"1\" class=\"dataframe\">\n",
              "  <thead>\n",
              "    <tr style=\"text-align: right;\">\n",
              "      <th></th>\n",
              "      <th>marks</th>\n",
              "      <th>shours</th>\n",
              "    </tr>\n",
              "  </thead>\n",
              "  <tbody>\n",
              "    <tr>\n",
              "      <th>0</th>\n",
              "      <td>72</td>\n",
              "      <td>20.0</td>\n",
              "    </tr>\n",
              "    <tr>\n",
              "      <th>1</th>\n",
              "      <td>42</td>\n",
              "      <td>19.0</td>\n",
              "    </tr>\n",
              "    <tr>\n",
              "      <th>2</th>\n",
              "      <td>77</td>\n",
              "      <td>7.0</td>\n",
              "    </tr>\n",
              "    <tr>\n",
              "      <th>3</th>\n",
              "      <td>93</td>\n",
              "      <td>22.0</td>\n",
              "    </tr>\n",
              "    <tr>\n",
              "      <th>4</th>\n",
              "      <td>30</td>\n",
              "      <td>20.0</td>\n",
              "    </tr>\n",
              "  </tbody>\n",
              "</table>\n",
              "</div>\n",
              "      <button class=\"colab-df-convert\" onclick=\"convertToInteractive('df-999ef9ed-4f46-426e-a242-5f783e191a12')\"\n",
              "              title=\"Convert this dataframe to an interactive table.\"\n",
              "              style=\"display:none;\">\n",
              "        \n",
              "  <svg xmlns=\"http://www.w3.org/2000/svg\" height=\"24px\"viewBox=\"0 0 24 24\"\n",
              "       width=\"24px\">\n",
              "    <path d=\"M0 0h24v24H0V0z\" fill=\"none\"/>\n",
              "    <path d=\"M18.56 5.44l.94 2.06.94-2.06 2.06-.94-2.06-.94-.94-2.06-.94 2.06-2.06.94zm-11 1L8.5 8.5l.94-2.06 2.06-.94-2.06-.94L8.5 2.5l-.94 2.06-2.06.94zm10 10l.94 2.06.94-2.06 2.06-.94-2.06-.94-.94-2.06-.94 2.06-2.06.94z\"/><path d=\"M17.41 7.96l-1.37-1.37c-.4-.4-.92-.59-1.43-.59-.52 0-1.04.2-1.43.59L10.3 9.45l-7.72 7.72c-.78.78-.78 2.05 0 2.83L4 21.41c.39.39.9.59 1.41.59.51 0 1.02-.2 1.41-.59l7.78-7.78 2.81-2.81c.8-.78.8-2.07 0-2.86zM5.41 20L4 18.59l7.72-7.72 1.47 1.35L5.41 20z\"/>\n",
              "  </svg>\n",
              "      </button>\n",
              "      \n",
              "  <style>\n",
              "    .colab-df-container {\n",
              "      display:flex;\n",
              "      flex-wrap:wrap;\n",
              "      gap: 12px;\n",
              "    }\n",
              "\n",
              "    .colab-df-convert {\n",
              "      background-color: #E8F0FE;\n",
              "      border: none;\n",
              "      border-radius: 50%;\n",
              "      cursor: pointer;\n",
              "      display: none;\n",
              "      fill: #1967D2;\n",
              "      height: 32px;\n",
              "      padding: 0 0 0 0;\n",
              "      width: 32px;\n",
              "    }\n",
              "\n",
              "    .colab-df-convert:hover {\n",
              "      background-color: #E2EBFA;\n",
              "      box-shadow: 0px 1px 2px rgba(60, 64, 67, 0.3), 0px 1px 3px 1px rgba(60, 64, 67, 0.15);\n",
              "      fill: #174EA6;\n",
              "    }\n",
              "\n",
              "    [theme=dark] .colab-df-convert {\n",
              "      background-color: #3B4455;\n",
              "      fill: #D2E3FC;\n",
              "    }\n",
              "\n",
              "    [theme=dark] .colab-df-convert:hover {\n",
              "      background-color: #434B5C;\n",
              "      box-shadow: 0px 1px 3px 1px rgba(0, 0, 0, 0.15);\n",
              "      filter: drop-shadow(0px 1px 2px rgba(0, 0, 0, 0.3));\n",
              "      fill: #FFFFFF;\n",
              "    }\n",
              "  </style>\n",
              "\n",
              "      <script>\n",
              "        const buttonEl =\n",
              "          document.querySelector('#df-999ef9ed-4f46-426e-a242-5f783e191a12 button.colab-df-convert');\n",
              "        buttonEl.style.display =\n",
              "          google.colab.kernel.accessAllowed ? 'block' : 'none';\n",
              "\n",
              "        async function convertToInteractive(key) {\n",
              "          const element = document.querySelector('#df-999ef9ed-4f46-426e-a242-5f783e191a12');\n",
              "          const dataTable =\n",
              "            await google.colab.kernel.invokeFunction('convertToInteractive',\n",
              "                                                     [key], {});\n",
              "          if (!dataTable) return;\n",
              "\n",
              "          const docLinkHtml = 'Like what you see? Visit the ' +\n",
              "            '<a target=\"_blank\" href=https://colab.research.google.com/notebooks/data_table.ipynb>data table notebook</a>'\n",
              "            + ' to learn more about interactive tables.';\n",
              "          element.innerHTML = '';\n",
              "          dataTable['output_type'] = 'display_data';\n",
              "          await google.colab.output.renderOutput(dataTable, element);\n",
              "          const docLink = document.createElement('div');\n",
              "          docLink.innerHTML = docLinkHtml;\n",
              "          element.appendChild(docLink);\n",
              "        }\n",
              "      </script>\n",
              "    </div>\n",
              "  </div>\n",
              "  "
            ]
          },
          "metadata": {},
          "execution_count": 2
        }
      ]
    },
    {
      "cell_type": "code",
      "source": [
        "data.isnull().sum(axis=0)"
      ],
      "metadata": {
        "colab": {
          "base_uri": "https://localhost:8080/"
        },
        "id": "35TJ8HXGlQS0",
        "outputId": "fe5898fb-3e85-4c98-d739-baca8fa4cc97"
      },
      "execution_count": null,
      "outputs": [
        {
          "output_type": "execute_result",
          "data": {
            "text/plain": [
              "marks     0\n",
              "shours    0\n",
              "dtype: int64"
            ]
          },
          "metadata": {},
          "execution_count": 6
        }
      ]
    },
    {
      "cell_type": "code",
      "source": [
        "x = data.copy()"
      ],
      "metadata": {
        "id": "c2k9cJ-Ul-rx"
      },
      "execution_count": null,
      "outputs": []
    },
    {
      "cell_type": "code",
      "source": [
        "# visualize the data using pandas\n",
        "x.plot.scatter(x = 'marks', y = 'shours')"
      ],
      "metadata": {
        "colab": {
          "base_uri": "https://localhost:8080/",
          "height": 296
        },
        "id": "r6invlW7lT2Q",
        "outputId": "b5ba0462-31dd-426d-9cd2-939ed85e082e"
      },
      "execution_count": null,
      "outputs": [
        {
          "output_type": "execute_result",
          "data": {
            "text/plain": [
              "<matplotlib.axes._subplots.AxesSubplot at 0x7f2f830ac6a0>"
            ]
          },
          "metadata": {},
          "execution_count": 9
        },
        {
          "output_type": "display_data",
          "data": {
            "text/plain": [
              "<Figure size 432x288 with 1 Axes>"
            ],
            "image/png": "[encoded data removed]"
          },
          "metadata": {
            "needs_background": "light"
          }
        }
      ]
    },
    {
      "cell_type": "code",
      "source": [
        "# Normalize the data using standard or min-max\n",
        "from sklearn.preprocessing import minmax_scale\n",
        "x_scaled = minmax_scale(x)\n",
        "x_scaled"
      ],
      "metadata": {
        "colab": {
          "base_uri": "https://localhost:8080/"
        },
        "id": "BhF3wP-FmSuN",
        "outputId": "f0813e5b-08d1-4acc-f71e-9ed21a277211"
      },
      "execution_count": null,
      "outputs": [
        {
          "output_type": "execute_result",
          "data": {
            "text/plain": [
              "array([[0.71232877, 0.64285714],\n",
              "       [0.30136986, 0.60714286],\n",
              "       [0.78082192, 0.17857143],\n",
              "       [1.        , 0.71428571],\n",
              "       [0.1369863 , 0.64285714],\n",
              "       [0.45205479, 0.46428571],\n",
              "       [0.73972603, 0.21428571],\n",
              "       [0.10958904, 0.78571429],\n",
              "       [0.67123288, 0.85714286],\n",
              "       [0.60273973, 0.17857143],\n",
              "       [0.91780822, 1.        ],\n",
              "       [0.68493151, 0.21428571],\n",
              "       [0.30136986, 0.57142857],\n",
              "       [0.80821918, 0.75      ],\n",
              "       [0.23287671, 0.71428571],\n",
              "       [0.43835616, 0.5       ],\n",
              "       [0.42465753, 0.46428571],\n",
              "       [0.06849315, 0.75      ],\n",
              "       [0.38356164, 0.53571429],\n",
              "       [0.89041096, 0.67857143],\n",
              "       [0.02739726, 0.67857143],\n",
              "       [0.5890411 , 0.19642857],\n",
              "       [0.30136986, 0.53571429],\n",
              "       [0.54794521, 0.46428571],\n",
              "       [0.49315068, 0.57142857],\n",
              "       [0.04109589, 0.10714286],\n",
              "       [0.30136986, 0.5       ],\n",
              "       [0.2739726 , 0.42857143],\n",
              "       [0.10958904, 0.89285714],\n",
              "       [0.36986301, 0.53571429],\n",
              "       [0.06849315, 0.03571429],\n",
              "       [0.15068493, 0.07142857],\n",
              "       [0.5890411 , 0.25      ],\n",
              "       [0.19178082, 0.        ],\n",
              "       [0.39726027, 0.42857143],\n",
              "       [0.04109589, 0.        ],\n",
              "       [0.49315068, 0.5       ],\n",
              "       [0.34246575, 0.42857143],\n",
              "       [0.45205479, 0.5       ],\n",
              "       [0.7260274 , 0.28571429],\n",
              "       [0.02739726, 0.07142857],\n",
              "       [0.43835616, 0.57142857],\n",
              "       [0.60273973, 0.75      ],\n",
              "       [0.30136986, 0.5       ],\n",
              "       [0.84931507, 0.85714286],\n",
              "       [0.2739726 , 0.53571429],\n",
              "       [0.2739726 , 0.5       ],\n",
              "       [0.        , 0.10714286],\n",
              "       [0.83561644, 0.67857143]])"
            ]
          },
          "metadata": {},
          "execution_count": 12
        }
      ]
    },
    {
      "cell_type": "code",
      "source": [
        "#  import KMeans\n",
        "from sklearn.cluster import KMeans"
      ],
      "metadata": {
        "id": "koSHFps3mtDf"
      },
      "execution_count": null,
      "outputs": []
    },
    {
      "cell_type": "code",
      "source": [
        "kmeans = KMeans(n_clusters=3, random_state=1234)"
      ],
      "metadata": {
        "id": "B8oUk6O9nHQQ"
      },
      "execution_count": null,
      "outputs": []
    },
    {
      "cell_type": "code",
      "source": [
        "kmeans.fit(x_scaled)\n",
        "labels = kmeans.labels_"
      ],
      "metadata": {
        "id": "xGlGT6h7nUWY"
      },
      "execution_count": null,
      "outputs": []
    },
    {
      "cell_type": "code",
      "source": [
        "labels"
      ],
      "metadata": {
        "colab": {
          "base_uri": "https://localhost:8080/"
        },
        "id": "svnE2Pb1nyos",
        "outputId": "13f75795-2c90-4bd1-f729-5deb00e81324"
      },
      "execution_count": null,
      "outputs": [
        {
          "output_type": "execute_result",
          "data": {
            "text/plain": [
              "array([1, 2, 1, 1, 2, 2, 1, 2, 1, 1, 1, 1, 2, 1, 2, 2, 2, 2, 2, 1, 2, 1,\n",
              "       2, 1, 2, 0, 2, 2, 2, 2, 0, 0, 1, 0, 2, 0, 2, 2, 2, 1, 0, 2, 1, 2,\n",
              "       1, 2, 2, 0, 1], dtype=int32)"
            ]
          },
          "metadata": {},
          "execution_count": 18
        }
      ]
    },
    {
      "cell_type": "code",
      "source": [
        "# visualize the cluster\n",
        "labels = pd.DataFrame(labels)\n",
        "df = pd.concat([x,labels],axis=1)\n"
      ],
      "metadata": {
        "id": "pN07T8Atnzuk"
      },
      "execution_count": null,
      "outputs": []
    },
    {
      "cell_type": "code",
      "source": [
        "df.columns"
      ],
      "metadata": {
        "colab": {
          "base_uri": "https://localhost:8080/"
        },
        "id": "n0YquXgrp0e7",
        "outputId": "7c0530d6-e526-4f69-9189-61824d231550"
      },
      "execution_count": null,
      "outputs": [
        {
          "output_type": "execute_result",
          "data": {
            "text/plain": [
              "Index(['marks', 'shours', 0], dtype='object')"
            ]
          },
          "metadata": {},
          "execution_count": 30
        }
      ]
    },
    {
      "cell_type": "code",
      "source": [
        "df = df.rename(columns={0:'labels'})"
      ],
      "metadata": {
        "id": "pw1hJLzEo92V"
      },
      "execution_count": null,
      "outputs": []
    },
    {
      "cell_type": "code",
      "source": [
        "df.plot.scatter(x='marks',y = 'shours',c = 'labels',colormap='Set1')"
      ],
      "metadata": {
        "colab": {
          "base_uri": "https://localhost:8080/",
          "height": 275
        },
        "id": "KGBkn9LSo-vi",
        "outputId": "e991149a-51ff-4c49-c6cc-fa43c53c0f4f"
      },
      "execution_count": null,
      "outputs": [
        {
          "output_type": "execute_result",
          "data": {
            "text/plain": [
              "<matplotlib.axes._subplots.AxesSubplot at 0x7f2f79e2eca0>"
            ]
          },
          "metadata": {},
          "execution_count": 36
        },
        {
          "output_type": "display_data",
          "data": {
            "text/plain": [
              "<Figure size 432x288 with 2 Axes>"
            ],
            "image/png": "[encoded data removed]"
          },
          "metadata": {
            "needs_background": "light"
          }
        }
      ]
    },
    {
      "cell_type": "code",
      "source": [
        "# Elbow method\n",
        "inertia = []\n",
        "for i in range(2,15):\n",
        "  kmeans = KMeans(n_clusters=i)\n",
        "  kmeans.fit(x_scaled)\n",
        "  inertia.append(kmeans.inertia_)\n"
      ],
      "metadata": {
        "id": "ddZ0-3XtpsjR"
      },
      "execution_count": null,
      "outputs": []
    },
    {
      "cell_type": "markdown",
      "source": [
        "**inertia** is a sum of squared distance.\n",
        "**Elbow method** plot used to understand distance between cluster\n"
      ],
      "metadata": {
        "id": "8IG0F78j3084"
      }
    },
    {
      "cell_type": "code",
      "source": [
        "inertia"
      ],
      "metadata": {
        "colab": {
          "base_uri": "https://localhost:8080/"
        },
        "id": "Sn3gOWpk3Cxa",
        "outputId": "7bcef2d0-9ca3-4861-9f75-a9575e82ae9f"
      },
      "execution_count": null,
      "outputs": [
        {
          "output_type": "execute_result",
          "data": {
            "text/plain": [
              "[4.103170007324023,\n",
              " 2.410310335699033,\n",
              " 1.155791015307772,\n",
              " 0.5752619558845887,\n",
              " 0.4643290198437524,\n",
              " 0.3644673630086283,\n",
              " 0.2985081486351612,\n",
              " 0.2648783024053253,\n",
              " 0.23743809542957733,\n",
              " 0.2192342684187401,\n",
              " 0.1984819497793487,\n",
              " 0.16910643568407707,\n",
              " 0.15411796505366393]"
            ]
          },
          "metadata": {},
          "execution_count": 43
        }
      ]
    },
    {
      "cell_type": "code",
      "source": [
        "import matplotlib.pyplot as plt\n",
        "\n",
        "plt.plot(range(2,15),inertia, marker = 'o' )\n",
        "plt.title('cluster')\n",
        "plt.xlabel('number of cluster')\n",
        "plt.ylabel('sum of squared (inertia)')"
      ],
      "metadata": {
        "colab": {
          "base_uri": "https://localhost:8080/",
          "height": 312
        },
        "id": "o9u-G_3r3GOZ",
        "outputId": "a8c7e9f0-bb92-4704-98c8-7d1ac2138ab6"
      },
      "execution_count": null,
      "outputs": [
        {
          "output_type": "execute_result",
          "data": {
            "text/plain": [
              "Text(0, 0.5, 'sum of squared (inertia)')"
            ]
          },
          "metadata": {},
          "execution_count": 48
        },
        {
          "output_type": "display_data",
          "data": {
            "text/plain": [
              "<Figure size 432x288 with 1 Axes>"
            ],
            "image/png": "[encoded data removed]"
          },
          "metadata": {
            "needs_background": "light"
          }
        }
      ]
    }
  ]
}